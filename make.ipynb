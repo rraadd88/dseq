{
 "cells": [
  {
   "cell_type": "markdown",
   "id": "71e69b7b-0e0d-49e0-a25e-4ad267e44f43",
   "metadata": {},
   "source": [
    "clean README.md"
   ]
  },
  {
   "cell_type": "code",
   "execution_count": 1,
   "id": "24357c6d-2f13-4907-9dc1-e26695485cc6",
   "metadata": {
    "execution": {
     "iopub.execute_input": "2024-02-18T00:31:21.979315Z",
     "iopub.status.busy": "2024-02-18T00:31:21.979099Z",
     "iopub.status.idle": "2024-02-18T00:31:21.987279Z",
     "shell.execute_reply": "2024-02-18T00:31:21.986595Z"
    }
   },
   "outputs": [],
   "source": [
    "text=open('README.md','r').read()"
   ]
  },
  {
   "cell_type": "code",
   "execution_count": 2,
   "id": "d904b162-ef0a-4bf3-a251-fd4a34b5ccb9",
   "metadata": {
    "execution": {
     "iopub.execute_input": "2024-02-18T00:31:21.990060Z",
     "iopub.status.busy": "2024-02-18T00:31:21.989841Z",
     "iopub.status.idle": "2024-02-18T00:31:22.099479Z",
     "shell.execute_reply": "2024-02-18T00:31:22.098782Z"
    }
   },
   "outputs": [],
   "source": [
    "# import re\n",
    "# re.split('<style scoped> <style  type=\"text/css\" >', text)"
   ]
  },
  {
   "cell_type": "code",
   "execution_count": 3,
   "id": "f51be712-be6c-4427-84bc-8f0b604ab364",
   "metadata": {
    "execution": {
     "iopub.execute_input": "2024-02-18T00:31:22.102882Z",
     "iopub.status.busy": "2024-02-18T00:31:22.102361Z",
     "iopub.status.idle": "2024-02-18T00:31:22.218307Z",
     "shell.execute_reply": "2024-02-18T00:31:22.216061Z"
    }
   },
   "outputs": [],
   "source": [
    "blocks=[s.split('</style>')[1] if '</style>' in s else s for s in text.replace('<style  type=\"text/css\" >','<style scoped>').split('<style scoped>')]\n",
    "# <style  type=\"text/css\" >"
   ]
  },
  {
   "cell_type": "code",
   "execution_count": 4,
   "id": "39ca4645-5c14-4827-9168-6961dcbf76d9",
   "metadata": {
    "execution": {
     "iopub.execute_input": "2024-02-18T00:31:22.226957Z",
     "iopub.status.busy": "2024-02-18T00:31:22.226272Z",
     "iopub.status.idle": "2024-02-18T00:31:22.320522Z",
     "shell.execute_reply": "2024-02-18T00:31:22.318313Z"
    }
   },
   "outputs": [],
   "source": [
    "text_=''.join(blocks)"
   ]
  },
  {
   "cell_type": "code",
   "execution_count": 5,
   "id": "a5c3bccd-d491-4753-b803-951c2fa6d925",
   "metadata": {
    "execution": {
     "iopub.execute_input": "2024-02-18T00:31:22.329304Z",
     "iopub.status.busy": "2024-02-18T00:31:22.328589Z",
     "iopub.status.idle": "2024-02-18T00:31:22.436702Z",
     "shell.execute_reply": "2024-02-18T00:31:22.434469Z"
    }
   },
   "outputs": [],
   "source": [
    "# import re\n",
    "# text_=re.sub(r'(\\n\\s*)+\\n+', '\\n', text_)"
   ]
  },
  {
   "cell_type": "code",
   "execution_count": 6,
   "id": "9797009b-575c-4027-8a44-9821c982875b",
   "metadata": {
    "execution": {
     "iopub.execute_input": "2024-02-18T00:31:22.445448Z",
     "iopub.status.busy": "2024-02-18T00:31:22.444759Z",
     "iopub.status.idle": "2024-02-18T00:31:22.543204Z",
     "shell.execute_reply": "2024-02-18T00:31:22.541941Z"
    }
   },
   "outputs": [],
   "source": [
    "# print(text_)"
   ]
  },
  {
   "cell_type": "code",
   "execution_count": 7,
   "id": "b400e5db-4499-4789-8e2c-1cdd0f99606a",
   "metadata": {
    "execution": {
     "iopub.execute_input": "2024-02-18T00:31:22.547882Z",
     "iopub.status.busy": "2024-02-18T00:31:22.547568Z",
     "iopub.status.idle": "2024-02-18T00:31:22.691453Z",
     "shell.execute_reply": "2024-02-18T00:31:22.690734Z"
    }
   },
   "outputs": [],
   "source": [
    "## images\n",
    "# text_=text_.replace(\"index_files/figure-commonmark\",\"_proc/_docs/index_files/figure-commonmark\")"
   ]
  },
  {
   "cell_type": "code",
   "execution_count": 8,
   "id": "a9657732-0d98-43d1-b0d8-ad00646117b5",
   "metadata": {
    "execution": {
     "iopub.execute_input": "2024-02-18T00:31:22.694453Z",
     "iopub.status.busy": "2024-02-18T00:31:22.694231Z",
     "iopub.status.idle": "2024-02-18T00:31:22.803660Z",
     "shell.execute_reply": "2024-02-18T00:31:22.802982Z"
    }
   },
   "outputs": [
    {
     "data": {
      "text/plain": [
       "206102"
      ]
     },
     "execution_count": 8,
     "metadata": {},
     "output_type": "execute_result"
    }
   ],
   "source": [
    "open('README.md','w').write(text_)"
   ]
  }
 ],
 "metadata": {
  "kernelspec": {
   "display_name": "dseq",
   "language": "python",
   "name": "dseq"
  },
  "language_info": {
   "codemirror_mode": {
    "name": "ipython",
    "version": 3
   },
   "file_extension": ".py",
   "mimetype": "text/x-python",
   "name": "python",
   "nbconvert_exporter": "python",
   "pygments_lexer": "ipython3",
   "version": "3.7.0"
  }
 },
 "nbformat": 4,
 "nbformat_minor": 5
}
