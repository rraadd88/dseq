{
 "cells": [
  {
   "cell_type": "markdown",
   "metadata": {},
   "source": [
    "# tools\n",
    "\n",
    "> To analyze the deep sequencing data in pandas."
   ]
  },
  {
   "cell_type": "code",
   "execution_count": null,
   "metadata": {},
   "outputs": [],
   "source": [
    "#| default_exp tools\n",
    "\n",
    "#| export\n",
    "import logging\n",
    "import sys\n",
    "import pandas as pd\n",
    "\n",
    "def _to_df(\n",
    "    read,\n",
    "    )->pd.DataFrame:\n",
    "    \"\"\"\n",
    "    Alignment to dataframe.\n",
    "\n",
    "    Parameters:\n",
    "        read : read object of pysam.\n",
    "\n",
    "    Return: dataframe (pd.DataFrame)\n",
    "    \"\"\"\n",
    "    ## Make a DataFrame\n",
    "    return (pd.DataFrame(\n",
    "         read.get_aligned_pairs(with_seq=True),\n",
    "         columns=['read position','reference position','reference'],\n",
    "         )\n",
    "     .assign(\n",
    "         read=lambda df: df['read position'].map(\n",
    "         ## Get all the reference (position) to query mappings\n",
    "         dict(zip(range(read.query_alignment_length),\n",
    "                 list(read.query_alignment_sequence)))\n",
    "            )))\n",
    "\n",
    "def read_bam(\n",
    "    bam_path: str,\n",
    "    verbose: bool=False,\n",
    "    force: bool= False,\n",
    "    ):\n",
    "    \"\"\"\n",
    "    Read the aligned file\n",
    "\n",
    "    Parameters:\n",
    "        bam_path (str): path to the .bam file.\n",
    "\n",
    "    Returns: pysam's aligned object.\n",
    "    \"\"\"\n",
    "    ## index the bam file. makes .bai file\n",
    "    from pathlib import Path\n",
    "    import pysam\n",
    "\n",
    "    if not Path(bam_path+'.bai').exists() or force:\n",
    "        _=pysam.index(bam_path)\n",
    "    aligned=pysam.AlignmentFile(bam_path, 'rb')\n",
    "    if verbose: logging.info(f\"size of the bam file = \"+f\"{round(sys.getsizeof(aligned)/(pow(1024,3)), 2)} GB\")    \n",
    "    return aligned\n",
    "\n",
    "\n",
    "def get_reads_per_contig(\n",
    "    aligned,\n",
    "    plot: bool=False,\n",
    "    ) -> pd.DataFrame:\n",
    "    \"\"\"\n",
    "    Cumulative read depth per contigs.\n",
    "\n",
    "    Parameters:\n",
    "        aliigned: aligned object of pysam.\n",
    "        plot (bool): make a plot.\n",
    "\n",
    "    Returns:\n",
    "        pd.DataFrame\n",
    "    \"\"\"\n",
    "    def get_attrs(o):\n",
    "        return {k:getattr(o,k) for k in dir(o) if k in ['contig','mapped','total','unmapped']}\n",
    "    df0=(\n",
    "        pd.DataFrame(map(get_attrs,aligned.get_index_statistics()))\n",
    "        .query(\"`mapped`!=0\")\n",
    "        .sort_values('mapped',ascending=False)\n",
    "        )\n",
    "    _=df0.plot.barh(x='contig',y=['mapped','unmapped'],stacked=True,ylabel='reads')\n",
    "    return df0\n",
    "\n",
    "def to_df(\n",
    "    bam_path: str,\n",
    "    start: int,\n",
    "    end: int,\n",
    "    contig: str,\n",
    "    verbose: bool=False,\n",
    "    **kws_fetch,\n",
    "    ) -> pd.DataFrame:\n",
    "    \"\"\"\n",
    "    Make a dataframe from a bam file.\n",
    "\n",
    "    Parameters:\n",
    "        bam_path (str): path to the bam file.\n",
    "        start (int): start position.\n",
    "        end (int): end position.\n",
    "        contig (str): contig name.\n",
    "        verbose (bool): verbose.\n",
    "\n",
    "    Keyword parameters:\n",
    "        kws_fetch: parameters provided to `aligned.fetch` function of pysam.\n",
    "\n",
    "    Returns:\n",
    "        pd.DataFrame\n",
    "    \"\"\"\n",
    "    aligned=read_bam(\n",
    "        bam_path,\n",
    "        verbose=verbose,\n",
    "    )\n",
    "    ## Filter the reads by target i.e. contig, start and end\n",
    "    ## docs: https://pysam.readthedocs.io/en/latest/api.html#pysam.AlignmentFile.fetch\n",
    "    aligned_reads = aligned.fetch(\n",
    "        start=start,\n",
    "        end=end,\n",
    "        contig=contig,\n",
    "        **kws_fetch,\n",
    "    )\n",
    "    ## concatenate the dataframes of reads\n",
    "    df1=(\n",
    "        pd.concat(\n",
    "            {(read.qname,read.cigarstring):_to_df(read) for read in aligned_reads},\n",
    "            axis=0,\n",
    "            names=['query id','CIGAR'],\n",
    "            )\n",
    "        .reset_index([0,1])\n",
    "        .assign(\n",
    "            reference= lambda x: x['reference'].str.upper(),\n",
    "            read= lambda x: x['read'].str.upper(),\n",
    "            )\n",
    "        .query(expr=f\"`reference position`>={start} and `reference position`<={end}\")\n",
    "        )\n",
    "    assert not df1.duplicated().any()\n",
    "    if verbose: logging.info(f\"size of the table = \"+f\"{round(sys.getsizeof(df1)/(pow(1024,3)), 2)} GB\")\n",
    "    return df1\n",
    "\n",
    "def mask_wt(\n",
    "    df3: pd.DataFrame,\n",
    "    values: str,\n",
    "    columns: list=['reference','read'],\n",
    "    ) -> pd.DataFrame:\n",
    "    \"\"\"\n",
    "    Mask the values for WT i.e. reference==read.\n",
    "\n",
    "    Parameters:\n",
    "        values (str): column with values.\n",
    "        columns (list): the columns to check the WT in. defaults to ['reference','read'].\n",
    "\n",
    "    Returns:\n",
    "        pd.DataFrame\n",
    "    \"\"\"\n",
    "    return (\n",
    "        df3\n",
    "        .assign(\n",
    "        **{values:lambda df: df.apply(lambda x: None if x[columns[0]]==x[columns[1]] else x[values],axis=1),}\n",
    "        )\n",
    "    )\n",
    "\n",
    "@pd.api.extensions.register_dataframe_accessor(\"dseq\")\n",
    "class Dseq:\n",
    "    \"\"\"Class for operating on the dataframe created from the .bam file.\"\"\"\n",
    "    def __init__(self, pandas_obj):\n",
    "        self._obj = pandas_obj\n",
    "\n",
    "    # @property\n",
    "    # def name(self): return\n",
    "\n",
    "    def get_coverage(\n",
    "        self\n",
    "        ) -> pd.DataFrame:\n",
    "        \"\"\"\n",
    "        Get the coverage by reference position.\n",
    "        \"\"\"\n",
    "        return (\n",
    "            self._obj\n",
    "            .groupby(['reference position',\"reference\"]).size().to_frame('depth').reset_index()\n",
    "        )\n",
    "\n",
    "    def get_counts_per_mutation(\n",
    "        self,\n",
    "        ) -> pd.DataFrame:\n",
    "        \"\"\"\n",
    "        Get number of reads per counts of the mutations.\n",
    "        \"\"\"\n",
    "        return (self._obj\n",
    "            .query(\"`reference`!=`read`\") ## filter to keep mutations\n",
    "            .groupby('query id').size()   ## count mutations by reads\n",
    "            .value_counts()               ## count reads by count mutations\n",
    "            .sort_values(ascending=True)  ## format data for plot\n",
    "        )\n",
    "    def get_counts_per_nt_mutation(\n",
    "        self\n",
    "        ) -> pd.DataFrame:\n",
    "        \"\"\"\n",
    "        Get counts of the nucleotide mutations.\n",
    "        \"\"\"\n",
    "        return (self._obj\n",
    "            .query(\"~(`CIGAR`.str.contains('I') or `CIGAR`.str.contains('D'))\") ## remove indels\n",
    "            .groupby(['reference position',\"reference\",\"read\"]).size()          ## depth of mutations\n",
    "            .to_frame('depth').reset_index()\n",
    "            .pipe(mask_wt,'depth')                                              ## mask wt\n",
    "            )\n",
    "\n",
    "    def get_reference_positions(\n",
    "        self\n",
    "        ) -> pd.DataFrame:\n",
    "        \"\"\"\n",
    "        Get the reference position.\n",
    "        \"\"\"\n",
    "        ## get the table with reference position and reference nucleotide\n",
    "        df5=(self._obj\n",
    "            .loc[:,['reference position','reference']]\n",
    "            .dropna()\n",
    "            .drop_duplicates()\n",
    "            .sort_values('reference position')\n",
    "            .reset_index(drop=True)\n",
    "            )\n",
    "        ## validate that the positions are continuous\n",
    "        assert len(df5)==(df5['reference position'].max()-df5['reference position'].min()+1)\n",
    "        return df5\n",
    "\n",
    "    def get_counts_per_codon_mutation(\n",
    "        self,\n",
    "        start: int=None,\n",
    "        ) -> pd.DataFrame:\n",
    "        \"\"\"\n",
    "        Get counts of the codon mutations.\n",
    "\n",
    "        Parameters:\n",
    "            start (int): start position.\n",
    "        \"\"\"\n",
    "        df5=self.get_reference_positions()\n",
    "        if start is None:\n",
    "            start=df5['reference position'].min()\n",
    "\n",
    "        import math\n",
    "        df5=(df5\n",
    "            ## codon positions (assuming codons start from the 1st base)\n",
    "            .assign(\n",
    "            **{\n",
    "                'codon position':lambda df: df['reference position'].sub(start).div(3).add(0.1).apply(math.ceil),\n",
    "                'codon reference': lambda df: df.groupby('codon position')['reference'].transform(lambda x: ''.join(x)),\n",
    "            }\n",
    "            )\n",
    "             ## merge-back the data\n",
    "             .merge(\n",
    "                 right=self._obj,\n",
    "                 how='inner',\n",
    "                 on=['reference position','reference'],\n",
    "                 validate=\"1:m\",\n",
    "             )\n",
    "        )\n",
    "\n",
    "        df6=(\n",
    "            df5\n",
    "            .query(\"~(`CIGAR`.str.contains('I') or `CIGAR`.str.contains('D'))\") ## remove indels\n",
    "            .groupby(['query id','codon position']).filter(lambda df: len(df)==3)\n",
    "            .assign(\n",
    "            **{\n",
    "                'codon read': lambda df: df.groupby(['query id','codon position'])['read'].transform(lambda x: ''.join(x)),\n",
    "            }\n",
    "            )\n",
    "        )\n",
    "\n",
    "        df7=(df6\n",
    "            .query(\"~(`CIGAR`.str.contains('I') or `CIGAR`.str.contains('D'))\")   ## remove indels\n",
    "            .groupby(['reference position',\"codon reference\",\"codon read\"]).size()## calculate depth\n",
    "            .to_frame('depth').reset_index()\n",
    "            .pipe(mask_wt,'depth',[\"codon reference\",\"codon read\"])               ## mask wt\n",
    "            )\n",
    "        return df7\n",
    "\n",
    "    def get_counts_per_aa_mutation(\n",
    "        self,\n",
    "        to_aa: dict=None,\n",
    "        ) -> pd.DataFrame:\n",
    "        \"\"\"\n",
    "        Get counts of the amino acid mutations.\n",
    "\n",
    "        Parameters:\n",
    "            to_aa (dict): codon to amino acid map. defaults to the standard codon table.\n",
    "        \"\"\"\n",
    "        df7=self.get_counts_per_codon_mutation()\n",
    "        if to_aa is None:\n",
    "            to_aa={'TCA': 'S', 'TCC': 'S', 'TCG': 'S', 'TCT': 'S', 'TTC': 'F', 'TTT': 'F', 'TTA': 'L', 'TTG': 'L', 'TAC': 'Y', 'TAT': 'Y', 'TAA': '*', 'TAG': '*', 'TGC': 'C', 'TGT': 'C', 'TGA': '*', 'TGG': 'W', 'CTA': 'L', 'CTC': 'L', 'CTG': 'L', 'CTT': 'L', 'CCA': 'P', 'CCC': 'P', 'CCG': 'P', 'CCT': 'P', 'CAC': 'H', 'CAT': 'H', 'CAA': 'Q', 'CAG': 'Q', 'CGA': 'R', 'CGC': 'R', 'CGG': 'R', 'CGT': 'R', 'ATA': 'I', 'ATC': 'I', 'ATT': 'I', 'ATG': 'M', 'ACA': 'T', 'ACC': 'T', 'ACG': 'T', 'ACT': 'T', 'AAC': 'N', 'AAT': 'N', 'AAA': 'K', 'AAG': 'K', 'AGC': 'S', 'AGT': 'S', 'AGA': 'R', 'AGG': 'R', 'GTA': 'V', 'GTC': 'V', 'GTG': 'V', 'GTT': 'V', 'GCA': 'A', 'GCC': 'A', 'GCG': 'A', 'GCT': 'A', 'GAC': 'D', 'GAT': 'D', 'GAA': 'E', 'GAG': 'E', 'GGA': 'G', 'GGC': 'G', 'GGG': 'G', 'GGT': 'G'}\n",
    "            logging.info('standard codon table is used.')\n",
    "\n",
    "        df8=(df7\n",
    "        .assign(\n",
    "            **{\n",
    "                'aa reference':lambda df: df['codon reference'].map(to_aa),\n",
    "                'aa read':lambda df: df['codon read'].map(to_aa),\n",
    "            }\n",
    "        )\n",
    "        )\n",
    "        return df8\n",
    "\n",
    "    def get_frequencies_per_nt_mutation(\n",
    "        self,\n",
    "        ) -> pd.DataFrame:\n",
    "        \"\"\"\n",
    "        Calculate the frequencies of the mutations.\n",
    "        \"\"\"\n",
    "        df3=self.get_counts_per_nt_mutation()\n",
    "        df2=self.get_coverage()\n",
    "        return (\n",
    "            df3\n",
    "            .merge(                                    ## map the cumulative read depth\n",
    "                right=df2,\n",
    "                how='inner',\n",
    "                on=['reference position','reference'],\n",
    "                validate=\"m:1\",\n",
    "                suffixes=[' mutation',' total']\n",
    "            )\n",
    "            .assign(                                   ## calculate the frequency\n",
    "                frequency=lambda df: df['depth mutation']/df['depth total']\n",
    "            )\n",
    "            .pipe(mask_wt,'frequency')                 ## mask wt\n",
    "            )\n",
    "    def get_map(\n",
    "        self,\n",
    "        value: str,\n",
    "        aggfunc: str,\n",
    "        fmt: str='{:.0f}',\n",
    "        include_position=True,\n",
    "        verbose: bool=False,\n",
    "        ) -> pd.DataFrame:\n",
    "        \"\"\"\n",
    "        Mutation map by the position of the mutation.\n",
    "\n",
    "        Parameters:\n",
    "            value (str): column with the values.\n",
    "            aggfunc (str): the name of or the function to be used for aggregating values.\n",
    "            fmt (str)': format of numbers displayed as output. defaults to '{:.0f}'.\n",
    "            include_position (str): include the positions. defaults to True.\n",
    "            verbose (bool): verbose. defaults to False.\n",
    "\n",
    "        Returns:\n",
    "            pd.DataFrame:\n",
    "        \"\"\"\n",
    "        if 'aa reference' in self._obj:\n",
    "            prefix='aa '\n",
    "        elif 'codon reference' in self._obj:\n",
    "            prefix='codon '\n",
    "        elif 'reference' in self._obj:\n",
    "            prefix=''\n",
    "        else:\n",
    "            raise ValueError(self._obj.columns.tolist())\n",
    "        if verbose: logging.info(prefix)\n",
    "\n",
    "        return (\n",
    "            self._obj\n",
    "            .groupby((['reference position'] if include_position else [])+[f'{prefix}reference',f'{prefix}read'])[value].agg('sum') ## aggregate depth\n",
    "            .unstack([0,1] if include_position else [0])\n",
    "            .sort_index(axis=1,level=0).fillna(0) ## formatting\n",
    "            .style.format(fmt).background_gradient(cmap ='Blues_r',axis=None) ## color the table\n",
    "        )\n",
    "\n",
    "    def get_submap(\n",
    "        self,\n",
    "        value: str,\n",
    "        aggfunc: str,\n",
    "        fmt: str='{:.0f}',\n",
    "        ) -> pd.DataFrame:\n",
    "        \"\"\"\n",
    "        Substitution map.\n",
    "\n",
    "        Parameters:\n",
    "            value (str): column with the values.\n",
    "            aggfunc (str): the name of or the function to be used for aggregating values.\n",
    "            fmt (str)': format of numbers displayed as output. defaults to '{:.0f}'.\n",
    "            include_position (str): include the positions. defaults to False.\n",
    "            verbose (bool): verbose. defaults to False.\n",
    "\n",
    "        Returns:\n",
    "            pd.DataFrame:\n",
    "        \"\"\"\n",
    "        return self.get_map(\n",
    "            value=value,\n",
    "            aggfunc=aggfunc,\n",
    "            fmt=fmt,\n",
    "            include_position=False,\n",
    "            )\n",
    "\n",
    "## for testing\n",
    "def set_wd():\n",
    "    import os\n",
    "    print(\">>>>>>>>>>>>>>>>> current dir:\"+os.getcwd())\n",
    "    if not os.getcwd().endswith(\"/examples\"):\n",
    "        if os.getcwd().endswith(\"/nbs\"):\n",
    "            os.chdir('../examples/')\n",
    "        else:\n",
    "            os.chdir('./examples/')\n",
    "        print(\">>>>>>>>>>>>>>>>> current dir:\"+os.getcwd())"
   ]
  },
  {
   "cell_type": "markdown",
   "metadata": {},
   "source": [
    "## Tests"
   ]
  },
  {
   "cell_type": "code",
   "execution_count": null,
   "metadata": {},
   "outputs": [],
   "source": [
    "#|hide\n",
    "## download the Demo Data\n",
    "set_wd()\n",
    "bam_url=\"http://ftp.sra.ebi.ac.uk/vol1/run/ERR346/ERR3461488/Lib052_0626_on_target.bam\"\n",
    "bam_path='inputs/test.bam'\n",
    "# Reference: Rationally engineered Staphylococcus aureus Cas9 nucleases with high genome-wide specificity. https://www.ncbi.nlm.nih.gov/sra/?term=ERR3461488\n",
    "\n",
    "## download in ./data folder\n",
    "from pathlib import Path\n",
    "if not Path(bam_path).exists():\n",
    "    Path(bam_path).parent.mkdir(exist_ok=True)\n",
    "    import urllib.request\n",
    "    _=urllib.request.urlretrieve(\n",
    "        bam_url,\n",
    "        bam_path,\n",
    "        )"
   ]
  },
  {
   "cell_type": "markdown",
   "metadata": {},
   "source": [
    "### Read the bam file as a pandas dataframe"
   ]
  },
  {
   "cell_type": "code",
   "execution_count": null,
   "metadata": {},
   "outputs": [
    {
     "name": "stdout",
     "output_type": "stream",
     "text": [
      "CPU times: user 1e+03 ns, sys: 1 µs, total: 2 µs\n",
      "Wall time: 4.77 µs\n"
     ]
    },
    {
     "data": {
      "text/html": [
       "<div>\n",
       "<style scoped>\n",
       "    .dataframe tbody tr th:only-of-type {\n",
       "        vertical-align: middle;\n",
       "    }\n",
       "\n",
       "    .dataframe tbody tr th {\n",
       "        vertical-align: top;\n",
       "    }\n",
       "\n",
       "    .dataframe thead th {\n",
       "        text-align: right;\n",
       "    }\n",
       "</style>\n",
       "<table border=\"1\" class=\"dataframe\">\n",
       "  <thead>\n",
       "    <tr style=\"text-align: right;\">\n",
       "      <th></th>\n",
       "      <th>query id</th>\n",
       "      <th>CIGAR</th>\n",
       "      <th>read position</th>\n",
       "      <th>reference position</th>\n",
       "      <th>reference</th>\n",
       "      <th>read</th>\n",
       "    </tr>\n",
       "  </thead>\n",
       "  <tbody>\n",
       "    <tr>\n",
       "      <th>0</th>\n",
       "      <td>M04377:211:000000000-D637H:1:1101:7912:5949::u...</td>\n",
       "      <td>151M</td>\n",
       "      <td>0.0</td>\n",
       "      <td>74846395.0</td>\n",
       "      <td>C</td>\n",
       "      <td>C</td>\n",
       "    </tr>\n",
       "  </tbody>\n",
       "</table>\n",
       "</div>"
      ],
      "text/plain": [
       "                                            query id CIGAR  read position  \\\n",
       "0  M04377:211:000000000-D637H:1:1101:7912:5949::u...  151M            0.0   \n",
       "\n",
       "   reference position reference read  \n",
       "0          74846395.0         C    C  "
      ]
     },
     "execution_count": null,
     "metadata": {},
     "output_type": "execute_result"
    }
   ],
   "source": [
    "%time\n",
    "df=to_df(\n",
    "    bam_path='inputs/test.bam', # path to the bam file\n",
    "    contig='14',              # i.e. reference name/ target\n",
    "    start=74846395,           # start position\n",
    "    end=74846545,             # end position\n",
    "    verbose=True,             # verbose\n",
    ")\n",
    "df.head(1)"
   ]
  },
  {
   "cell_type": "code",
   "execution_count": null,
   "metadata": {},
   "outputs": [
    {
     "name": "stdout",
     "output_type": "stream",
     "text": [
      "(56424, 6)\n"
     ]
    }
   ],
   "source": [
    "print(df.shape)\n",
    "assert df.shape == (56424, 6)"
   ]
  },
  {
   "cell_type": "markdown",
   "metadata": {},
   "source": [
    "### Coverage per position (`QC`)"
   ]
  },
  {
   "cell_type": "code",
   "execution_count": null,
   "metadata": {},
   "outputs": [
    {
     "name": "stdout",
     "output_type": "stream",
     "text": [
      "CPU times: user 2 µs, sys: 1 µs, total: 3 µs\n",
      "Wall time: 4.53 µs\n"
     ]
    },
    {
     "data": {
      "text/html": [
       "<div>\n",
       "<style scoped>\n",
       "    .dataframe tbody tr th:only-of-type {\n",
       "        vertical-align: middle;\n",
       "    }\n",
       "\n",
       "    .dataframe tbody tr th {\n",
       "        vertical-align: top;\n",
       "    }\n",
       "\n",
       "    .dataframe thead th {\n",
       "        text-align: right;\n",
       "    }\n",
       "</style>\n",
       "<table border=\"1\" class=\"dataframe\">\n",
       "  <thead>\n",
       "    <tr style=\"text-align: right;\">\n",
       "      <th></th>\n",
       "      <th>reference position</th>\n",
       "      <th>reference</th>\n",
       "      <th>depth</th>\n",
       "    </tr>\n",
       "  </thead>\n",
       "  <tbody>\n",
       "    <tr>\n",
       "      <th>0</th>\n",
       "      <td>74846395.0</td>\n",
       "      <td>C</td>\n",
       "      <td>377</td>\n",
       "    </tr>\n",
       "  </tbody>\n",
       "</table>\n",
       "</div>"
      ],
      "text/plain": [
       "   reference position reference  depth\n",
       "0          74846395.0         C    377"
      ]
     },
     "execution_count": null,
     "metadata": {},
     "output_type": "execute_result"
    }
   ],
   "source": [
    "%time\n",
    "data=df.dseq.get_coverage()\n",
    "data.head(1)"
   ]
  },
  {
   "cell_type": "code",
   "execution_count": null,
   "metadata": {},
   "outputs": [
    {
     "name": "stdout",
     "output_type": "stream",
     "text": [
      "(151, 3)\n"
     ]
    }
   ],
   "source": [
    "print(data.shape)\n",
    "assert data.shape == (151, 3)"
   ]
  },
  {
   "cell_type": "markdown",
   "metadata": {},
   "source": [
    "### Number of reads per mutations (`QC`)"
   ]
  },
  {
   "cell_type": "code",
   "execution_count": null,
   "metadata": {},
   "outputs": [
    {
     "name": "stdout",
     "output_type": "stream",
     "text": [
      "CPU times: user 9 µs, sys: 0 ns, total: 9 µs\n",
      "Wall time: 15.7 µs\n"
     ]
    },
    {
     "data": {
      "text/plain": [
       "4    1\n",
       "dtype: int64"
      ]
     },
     "execution_count": null,
     "metadata": {},
     "output_type": "execute_result"
    }
   ],
   "source": [
    "%time\n",
    "data=df.dseq.get_counts_per_mutation()\n",
    "data.head(1)"
   ]
  },
  {
   "cell_type": "code",
   "execution_count": null,
   "metadata": {},
   "outputs": [
    {
     "name": "stdout",
     "output_type": "stream",
     "text": [
      "(5,)\n"
     ]
    }
   ],
   "source": [
    "print(data.shape)\n",
    "assert data.shape == (5,)"
   ]
  },
  {
   "cell_type": "markdown",
   "metadata": {},
   "source": [
    "### Read depth per nucleotide mutations"
   ]
  },
  {
   "cell_type": "code",
   "execution_count": null,
   "metadata": {},
   "outputs": [
    {
     "name": "stdout",
     "output_type": "stream",
     "text": [
      "CPU times: user 2 µs, sys: 1 µs, total: 3 µs\n",
      "Wall time: 4.29 µs\n"
     ]
    },
    {
     "data": {
      "text/html": [
       "<div>\n",
       "<style scoped>\n",
       "    .dataframe tbody tr th:only-of-type {\n",
       "        vertical-align: middle;\n",
       "    }\n",
       "\n",
       "    .dataframe tbody tr th {\n",
       "        vertical-align: top;\n",
       "    }\n",
       "\n",
       "    .dataframe thead th {\n",
       "        text-align: right;\n",
       "    }\n",
       "</style>\n",
       "<table border=\"1\" class=\"dataframe\">\n",
       "  <thead>\n",
       "    <tr style=\"text-align: right;\">\n",
       "      <th></th>\n",
       "      <th>reference position</th>\n",
       "      <th>reference</th>\n",
       "      <th>read</th>\n",
       "      <th>depth</th>\n",
       "    </tr>\n",
       "  </thead>\n",
       "  <tbody>\n",
       "    <tr>\n",
       "      <th>0</th>\n",
       "      <td>74846395.0</td>\n",
       "      <td>C</td>\n",
       "      <td>C</td>\n",
       "      <td>NaN</td>\n",
       "    </tr>\n",
       "  </tbody>\n",
       "</table>\n",
       "</div>"
      ],
      "text/plain": [
       "   reference position reference read  depth\n",
       "0          74846395.0         C    C    NaN"
      ]
     },
     "execution_count": null,
     "metadata": {},
     "output_type": "execute_result"
    }
   ],
   "source": [
    "%time\n",
    "data=df.dseq.get_counts_per_nt_mutation()\n",
    "data.head(1)"
   ]
  },
  {
   "cell_type": "code",
   "execution_count": null,
   "metadata": {},
   "outputs": [
    {
     "name": "stdout",
     "output_type": "stream",
     "text": [
      "(212, 4)\n"
     ]
    }
   ],
   "source": [
    "print(data.shape)\n",
    "assert data.shape == (212, 4)"
   ]
  },
  {
   "cell_type": "markdown",
   "metadata": {},
   "source": [
    "### Read depth per codons"
   ]
  },
  {
   "cell_type": "code",
   "execution_count": null,
   "metadata": {},
   "outputs": [
    {
     "name": "stdout",
     "output_type": "stream",
     "text": [
      "CPU times: user 2 µs, sys: 0 ns, total: 2 µs\n",
      "Wall time: 4.05 µs\n"
     ]
    },
    {
     "data": {
      "text/html": [
       "<div>\n",
       "<style scoped>\n",
       "    .dataframe tbody tr th:only-of-type {\n",
       "        vertical-align: middle;\n",
       "    }\n",
       "\n",
       "    .dataframe tbody tr th {\n",
       "        vertical-align: top;\n",
       "    }\n",
       "\n",
       "    .dataframe thead th {\n",
       "        text-align: right;\n",
       "    }\n",
       "</style>\n",
       "<table border=\"1\" class=\"dataframe\">\n",
       "  <thead>\n",
       "    <tr style=\"text-align: right;\">\n",
       "      <th></th>\n",
       "      <th>reference position</th>\n",
       "      <th>codon reference</th>\n",
       "      <th>codon read</th>\n",
       "      <th>depth</th>\n",
       "    </tr>\n",
       "  </thead>\n",
       "  <tbody>\n",
       "    <tr>\n",
       "      <th>0</th>\n",
       "      <td>74846395.0</td>\n",
       "      <td>CCT</td>\n",
       "      <td>CCC</td>\n",
       "      <td>2.0</td>\n",
       "    </tr>\n",
       "  </tbody>\n",
       "</table>\n",
       "</div>"
      ],
      "text/plain": [
       "   reference position codon reference codon read  depth\n",
       "0          74846395.0             CCT        CCC    2.0"
      ]
     },
     "execution_count": null,
     "metadata": {},
     "output_type": "execute_result"
    }
   ],
   "source": [
    "%time\n",
    "data=df.dseq.get_counts_per_codon_mutation()\n",
    "data.head(1)"
   ]
  },
  {
   "cell_type": "code",
   "execution_count": null,
   "metadata": {},
   "outputs": [
    {
     "name": "stdout",
     "output_type": "stream",
     "text": [
      "(330, 4)\n"
     ]
    }
   ],
   "source": [
    "print(data.shape)\n",
    "assert data.shape == (330, 4)"
   ]
  },
  {
   "cell_type": "markdown",
   "metadata": {},
   "source": [
    "### Read depth per amino acids"
   ]
  },
  {
   "cell_type": "code",
   "execution_count": null,
   "metadata": {},
   "outputs": [
    {
     "name": "stdout",
     "output_type": "stream",
     "text": [
      "CPU times: user 7 µs, sys: 1 µs, total: 8 µs\n",
      "Wall time: 13.6 µs\n"
     ]
    },
    {
     "data": {
      "text/html": [
       "<div>\n",
       "<style scoped>\n",
       "    .dataframe tbody tr th:only-of-type {\n",
       "        vertical-align: middle;\n",
       "    }\n",
       "\n",
       "    .dataframe tbody tr th {\n",
       "        vertical-align: top;\n",
       "    }\n",
       "\n",
       "    .dataframe thead th {\n",
       "        text-align: right;\n",
       "    }\n",
       "</style>\n",
       "<table border=\"1\" class=\"dataframe\">\n",
       "  <thead>\n",
       "    <tr style=\"text-align: right;\">\n",
       "      <th></th>\n",
       "      <th>reference position</th>\n",
       "      <th>codon reference</th>\n",
       "      <th>codon read</th>\n",
       "      <th>depth</th>\n",
       "      <th>aa reference</th>\n",
       "      <th>aa read</th>\n",
       "    </tr>\n",
       "  </thead>\n",
       "  <tbody>\n",
       "    <tr>\n",
       "      <th>0</th>\n",
       "      <td>74846395.0</td>\n",
       "      <td>CCT</td>\n",
       "      <td>CCC</td>\n",
       "      <td>2.0</td>\n",
       "      <td>P</td>\n",
       "      <td>P</td>\n",
       "    </tr>\n",
       "  </tbody>\n",
       "</table>\n",
       "</div>"
      ],
      "text/plain": [
       "   reference position codon reference codon read  depth aa reference aa read\n",
       "0          74846395.0             CCT        CCC    2.0            P       P"
      ]
     },
     "execution_count": null,
     "metadata": {},
     "output_type": "execute_result"
    }
   ],
   "source": [
    "%time\n",
    "data=df.dseq.get_counts_per_aa_mutation()\n",
    "data.head(1)"
   ]
  },
  {
   "cell_type": "code",
   "execution_count": null,
   "metadata": {},
   "outputs": [
    {
     "name": "stdout",
     "output_type": "stream",
     "text": [
      "(330, 6)\n"
     ]
    }
   ],
   "source": [
    "print(data.shape)\n",
    "assert data.shape == (330, 6)"
   ]
  },
  {
   "cell_type": "markdown",
   "metadata": {},
   "source": [
    "### Normalize read depth of a mutations by the cumulative read depth, to calculate mutation freqency"
   ]
  },
  {
   "cell_type": "code",
   "execution_count": null,
   "metadata": {},
   "outputs": [
    {
     "name": "stdout",
     "output_type": "stream",
     "text": [
      "CPU times: user 2 µs, sys: 0 ns, total: 2 µs\n",
      "Wall time: 4.05 µs\n"
     ]
    },
    {
     "data": {
      "text/html": [
       "<div>\n",
       "<style scoped>\n",
       "    .dataframe tbody tr th:only-of-type {\n",
       "        vertical-align: middle;\n",
       "    }\n",
       "\n",
       "    .dataframe tbody tr th {\n",
       "        vertical-align: top;\n",
       "    }\n",
       "\n",
       "    .dataframe thead th {\n",
       "        text-align: right;\n",
       "    }\n",
       "</style>\n",
       "<table border=\"1\" class=\"dataframe\">\n",
       "  <thead>\n",
       "    <tr style=\"text-align: right;\">\n",
       "      <th></th>\n",
       "      <th>reference position</th>\n",
       "      <th>reference</th>\n",
       "      <th>read</th>\n",
       "      <th>depth mutation</th>\n",
       "      <th>depth total</th>\n",
       "      <th>frequency</th>\n",
       "    </tr>\n",
       "  </thead>\n",
       "  <tbody>\n",
       "    <tr>\n",
       "      <th>0</th>\n",
       "      <td>74846395.0</td>\n",
       "      <td>C</td>\n",
       "      <td>C</td>\n",
       "      <td>NaN</td>\n",
       "      <td>377</td>\n",
       "      <td>NaN</td>\n",
       "    </tr>\n",
       "  </tbody>\n",
       "</table>\n",
       "</div>"
      ],
      "text/plain": [
       "   reference position reference read  depth mutation  depth total  frequency\n",
       "0          74846395.0         C    C             NaN          377        NaN"
      ]
     },
     "execution_count": null,
     "metadata": {},
     "output_type": "execute_result"
    }
   ],
   "source": [
    "%time\n",
    "data=df.dseq.get_frequencies_per_nt_mutation()\n",
    "data.head(1)"
   ]
  },
  {
   "cell_type": "code",
   "execution_count": null,
   "metadata": {},
   "outputs": [
    {
     "name": "stdout",
     "output_type": "stream",
     "text": [
      "(212, 6)\n"
     ]
    }
   ],
   "source": [
    "print(data.shape)\n",
    "assert data.shape == (212, 6)"
   ]
  },
  {
   "cell_type": "markdown",
   "metadata": {},
   "source": [
    "### Extract indels"
   ]
  },
  {
   "cell_type": "code",
   "execution_count": null,
   "metadata": {},
   "outputs": [
    {
     "name": "stdout",
     "output_type": "stream",
     "text": [
      "CPU times: user 7 µs, sys: 0 ns, total: 7 µs\n",
      "Wall time: 14.8 µs\n"
     ]
    },
    {
     "data": {
      "text/html": [
       "<div>\n",
       "<style scoped>\n",
       "    .dataframe tbody tr th:only-of-type {\n",
       "        vertical-align: middle;\n",
       "    }\n",
       "\n",
       "    .dataframe tbody tr th {\n",
       "        vertical-align: top;\n",
       "    }\n",
       "\n",
       "    .dataframe thead th {\n",
       "        text-align: right;\n",
       "    }\n",
       "</style>\n",
       "<table border=\"1\" class=\"dataframe\">\n",
       "  <thead>\n",
       "    <tr style=\"text-align: right;\">\n",
       "      <th></th>\n",
       "      <th>query id</th>\n",
       "      <th>CIGAR</th>\n",
       "      <th>read position</th>\n",
       "      <th>reference position</th>\n",
       "      <th>reference</th>\n",
       "      <th>read</th>\n",
       "    </tr>\n",
       "  </thead>\n",
       "  <tbody>\n",
       "    <tr>\n",
       "      <th>37</th>\n",
       "      <td>M04377:211:000000000-D637H:1:1101:10676:7283::...</td>\n",
       "      <td>22M1D129M</td>\n",
       "      <td>36.0</td>\n",
       "      <td>74846395.0</td>\n",
       "      <td>C</td>\n",
       "      <td>C</td>\n",
       "    </tr>\n",
       "  </tbody>\n",
       "</table>\n",
       "</div>"
      ],
      "text/plain": [
       "                                             query id      CIGAR  \\\n",
       "37  M04377:211:000000000-D637H:1:1101:10676:7283::...  22M1D129M   \n",
       "\n",
       "    read position  reference position reference read  \n",
       "37           36.0          74846395.0         C    C  "
      ]
     },
     "execution_count": null,
     "metadata": {},
     "output_type": "execute_result"
    }
   ],
   "source": [
    "%time\n",
    "data=(df\n",
    "    .query(\"`CIGAR`.str.contains('I') or `CIGAR`.str.contains('D')\") ## keep indels\n",
    "    )\n",
    "data.head(1)"
   ]
  },
  {
   "cell_type": "code",
   "execution_count": null,
   "metadata": {},
   "outputs": [
    {
     "name": "stdout",
     "output_type": "stream",
     "text": [
      "(2699, 6)\n"
     ]
    }
   ],
   "source": [
    "print(data.shape)\n",
    "assert data.shape == (2699, 6)"
   ]
  },
  {
   "cell_type": "code",
   "execution_count": null,
   "metadata": {},
   "outputs": [],
   "source": [
    "#| hide\n",
    "from nbdev.showdoc import *"
   ]
  },
  {
   "cell_type": "code",
   "execution_count": null,
   "metadata": {},
   "outputs": [],
   "source": [
    "#| hide\n",
    "import nbdev; nbdev.nbdev_export()"
   ]
  }
 ],
 "metadata": {
  "kernelspec": {
   "display_name": "dseq",
   "language": "python",
   "name": "dseq"
  }
 },
 "nbformat": 4,
 "nbformat_minor": 4
}
